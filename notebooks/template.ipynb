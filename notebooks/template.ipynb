{
  "cells": [
    {
      "cell_type": "markdown",
      "metadata": {
        "id": "dZYfEHlH4Baz"
      },
      "source": [
        "# Template (Julia) Notebook\n",
        "\n",
        "This template is for you to **save a copy** in your own Google Drive and use it\n",
        "as a starting point for your experiments!\n",
        "\n",
        "The first time you open this notebook, follow the instructions below..."
      ]
    },
    {
      "cell_type": "code",
      "execution_count": null,
      "metadata": {
        "id": "6Q4PbqcS8n7y"
      },
      "outputs": [],
      "source": [
        "# Run only this first 'cell', when starting your notebook session.\n",
        "# It will take ~3min\n",
        "!curl -fsSL https://raw.githubusercontent.com/mgiugliano/PrinciplesCompNeurosciencesCourse/main/pvt/deploy_julia.sh | sh\n",
        "\n",
        "# When the process is completed, perform a 'page refresh'."
      ]
    },
    {
      "cell_type": "markdown",
      "metadata": {
        "id": "-K2YXk1H4NTo"
      },
      "source": [
        "Time to check the Julia *kernel*. Run each of the two 'cells' below. \n",
        "\n",
        "Do they work?! Does Julia print **25** and plots a graph?!?"
      ]
    },
    {
      "cell_type": "code",
      "execution_count": null,
      "metadata": {
        "id": "HSOFxm5J3xar"
      },
      "outputs": [],
      "source": [
        "# julia cells\n",
        "function square(x)\n",
        "  return x*x\n",
        "end\n",
        "\n",
        "square(5)"
      ]
    },
    {
      "cell_type": "code",
      "execution_count": null,
      "metadata": {
        "id": "KfHVUdQ-4AiW"
      },
      "outputs": [],
      "source": [
        "using Plots\n",
        "x = 0:0.1:6.28\n",
        "y = sin.(x)\n",
        "plot(x, y)"
      ]
    }
  ],
  "metadata": {
    "colab": {
      "provenance": []
    },
    "kernelspec": {
      "display_name": "Julia 1.8.2",
      "language": "julia",
      "name": "julia-1.8"
    },
    "language_info": {
      "name": "julia"
    }
  },
  "nbformat": 4,
  "nbformat_minor": 0
}
