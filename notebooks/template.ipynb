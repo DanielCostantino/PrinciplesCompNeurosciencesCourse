{
  "nbformat": 4,
  "nbformat_minor": 0,
  "metadata": {
    "colab": {
      "provenance": []
    },
    "kernelspec": {
      "name": "julia",
      "display_name": "Julia 1.8.1"
    },
    "language_info": {
      "name": "julia"
    }
  },
  "cells": [
    {
      "cell_type": "code",
      "execution_count": null,
      "metadata": {
        "id": "6Q4PbqcS8n7y"
      },
      "outputs": [],
      "source": [
        "# Run only this first 'cell', when starting your notebook session.\n",
        "# It will take ~2min\n",
        "!curl -fsSL https://raw.githubusercontent.com/mgiugliano/PrinciplesCompNeurosciencesCourse/main/pvt/deploy_julia.sh | sh\n",
        "\n",
        "# When the process is completed, perform a 'page refresh'."
      ]
    },
    {
      "cell_type": "code",
      "source": [
        "# julia cells\n",
        "function square(x)\n",
        "  return x*x\n",
        "end\n",
        "\n",
        "square(5)"
      ],
      "metadata": {
        "id": "10YzKoJh9BzQ"
      },
      "execution_count": null,
      "outputs": []
    }
  ]
}