{
  "cells": [
    {
      "cell_type": "markdown",
      "metadata": {
        "id": "dZYfEHlH4Baz"
      },
      "source": [
        "# Intro to Julia\n",
        "\n",
        "The first time you open this notebook, follow the instructions below..."
      ]
    },
    {
      "cell_type": "code",
      "execution_count": null,
      "metadata": {
        "id": "6Q4PbqcS8n7y"
      },
      "outputs": [],
      "source": [
        "# Run only this first 'cell', when starting your notebook session.\n",
        "# It will take ~3min\n",
        "!curl -fsSL https://raw.githubusercontent.com/mgiugliano/PrinciplesCompNeurosciencesCourse/main/pvt/deploy_julia.sh | sh\n",
        "\n",
        "# When the process is completed, perform a 'page refresh'."
      ]
    },
    {
      "cell_type": "markdown",
      "metadata": {
        "id": "-K2YXk1H4NTo"
      },
      "source": [
        "Time to check the Julia *kernel*. Run each of the two 'cells' below. \n",
        "\n",
        "Do they work?! Does Julia print **25** and plots a graph?!?"
      ]
    },
    {
      "cell_type": "code",
      "execution_count": null,
      "metadata": {
        "id": "HSOFxm5J3xar"
      },
      "outputs": [],
      "source": [
        "# Single line comments start with a hash (pound) symbol.\n",
        "#= Multiline comments can be written\n",
        "   by putting '#=' before the text  and '=#'\n",
        "   after the text. They can also be nested.\n",
        "=#"
      ]
    },
    {
      "cell_type": "code",
      "source": [
        "####################################################\n",
        "## 1. Primitive Datatypes and Operators\n",
        "####################################################\n",
        "\n",
        "# Everything in Julia is an expression.\n",
        "\n",
        "# There are several basic types of numbers.\n",
        "typeof(3)       # => Int64\n",
        "typeof(3.2)     # => Float64"
      ],
      "metadata": {
        "id": "_0tmGCSSfHEQ"
      },
      "execution_count": null,
      "outputs": []
    },
    {
      "cell_type": "code",
      "source": [
        "# All of the normal infix operators are available.\n",
        "1 + 1      # => 2\n",
        "8 - 1      # => 7\n",
        "10 * 2     # => 20\n",
        "35 / 5     # => 7.0\n",
        "10 / 2     # => 5.0  # dividing integers always results in a Float64\n",
        "div(5, 2)  # => 2    # for a truncated result, use div\n",
        "2^2        # => 4    # power, not bitwise xor\n",
        "12 % 10    # => 2"
      ],
      "metadata": {
        "id": "L5KtsgHlfH4b"
      },
      "execution_count": null,
      "outputs": []
    },
    {
      "cell_type": "code",
      "source": [
        "# Enforce precedence with parentheses\n",
        "(1 + 3) * 2  # => 8"
      ],
      "metadata": {
        "id": "7R7_6-1dfUs-"
      },
      "execution_count": null,
      "outputs": []
    },
    {
      "cell_type": "code",
      "source": [
        "# Boolean values are primitives\n",
        "true\n",
        "false"
      ],
      "metadata": {
        "id": "T91Y0Pi-fgdw"
      },
      "execution_count": null,
      "outputs": []
    },
    {
      "cell_type": "code",
      "source": [
        "# Boolean operators\n",
        "!true   # => false\n",
        "!false  # => true\n",
        "1 == 1  # => true\n",
        "2 == 1  # => false\n",
        "1 != 1  # => false\n",
        "2 != 1  # => true\n",
        "1 < 10  # => true\n",
        "1 > 10  # => false\n",
        "2 <= 2  # => true\n",
        "2 >= 2  # => true\n",
        "\n",
        "# Comparisons can be chained, like in Python but unlike many other languages\n",
        "1 < 2 < 3  # => true\n",
        "2 < 3 < 2  # => false"
      ],
      "metadata": {
        "id": "bvnNzPfwfiD7"
      },
      "execution_count": null,
      "outputs": []
    },
    {
      "cell_type": "code",
      "source": [
        "# Strings are created with \"\n",
        "\"This is a string.\"\n",
        "\n",
        "# Character literals are written with '\n",
        "'a'"
      ],
      "metadata": {
        "id": "SxDOtBBBfkBa"
      },
      "execution_count": null,
      "outputs": []
    },
    {
      "cell_type": "code",
      "source": [
        "# Beware, Julia indexes everything from 1 (like MATLAB), not 0 (like most languages).\n",
        "\n",
        "# String can be compared lexicographically, in dictionnary order:\n",
        "\"good\" > \"bye\"   # => true\n",
        "\"good\" == \"good\" # => true\n",
        "\"1 + 2 = 3\" == \"1 + 2 = $(1 + 2)\" # => true\n",
        "\n",
        "# $(..) can be used for string interpolation:\n",
        "\"2 + 2 = $(2 + 2)\" # => \"2 + 2 = 4\"\n",
        "# You can put any Julia expression inside the parentheses.\n",
        "\n",
        "# Printing is easy\n",
        "println(\"I'm Julia. Nice to meet you!\")  # => I'm Julia. Nice to meet you!"
      ],
      "metadata": {
        "id": "k1KO-ijXfrom"
      },
      "execution_count": null,
      "outputs": []
    },
    {
      "cell_type": "code",
      "source": [
        "####################################################\n",
        "## 2. Variables and Collections\n",
        "####################################################\n",
        "\n",
        "# You don't declare variables before assigning to them.\n",
        "someVar = 5  # => 5\n",
        "someVar      # => 5\n",
        "\n",
        "\n",
        "# Variable names start with a letter or underscore.\n",
        "# After that, you can use letters, digits, underscores, and exclamation points.\n",
        "SomeOtherVar123! = 6  # => 6"
      ],
      "metadata": {
        "id": "D-6NbRhGi45Q"
      },
      "execution_count": null,
      "outputs": []
    },
    {
      "cell_type": "code",
      "source": [
        "# Arrays store a sequence of values indexed by integers 1 through n:\n",
        "a = Int64[] # => 0-element Array{Int64,1}\n",
        "\n",
        "# 1-dimensional array literals can be written with comma-separated values.\n",
        "b = [4, 5, 6] # => 3-element Array{Int64,1}: [4, 5, 6]\n",
        "b = [4; 5; 6] # => 3-element Array{Int64,1}: [4, 5, 6]\n",
        "b[1]    # => 4\n",
        "b[end]  # => 6\n",
        "\n",
        "# 2-dimensional arrays use space-separated values and semicolon-separated rows.\n",
        "matrix = [1 2; 3 4] # => 2×2 Array{Int64,2}: [1 2; 3 4]\n",
        "\n",
        "# Arrays of a particular type\n",
        "b = Int8[4, 5, 6] # => 3-element Array{Int8,1}: [4, 5, 6]\n",
        "\n",
        "# Add stuff to the end of a list with push! and append!\n",
        "# By convention, the exclamation mark '!' is appended to names of functions\n",
        "# that modify their arguments\n",
        "push!(a, 1)    # => [1]\n",
        "push!(a, 2)    # => [1,2]\n",
        "push!(a, 4)    # => [1,2,4]\n",
        "push!(a, 3)    # => [1,2,4,3]\n",
        "append!(a, b)  # => [1,2,4,3,4,5,6]\n",
        "\n",
        "# Remove from the end with pop\n",
        "pop!(b)  # => 6\n",
        "b # => [4,5]\n",
        "\n",
        "# Let's put it back\n",
        "push!(b, 6)  # => [4,5,6]\n",
        "b # => [4,5,6]\n",
        "\n",
        "a[1]  # => 1  # remember that Julia indexes from 1, not 0!\n",
        "\n",
        "# end is a shorthand for the last index. It can be used in any\n",
        "# indexing expression\n",
        "a[end]  # => 6\n",
        "\n",
        "# we also have popfirst! and pushfirst!\n",
        "popfirst!(a)  # => 1 \n",
        "a # => [2,4,3,4,5,6]\n",
        "pushfirst!(a, 7)  # => [7,2,4,3,4,5,6]\n",
        "a # => [7,2,4,3,4,5,6]\n",
        "\n",
        "# Function names that end in exclamations points indicate that they modify\n",
        "# their argument.\n",
        "arr = [5,4,6]  # => 3-element Array{Int64,1}: [5,4,6]\n",
        "sort(arr)      # => [4,5,6]\n",
        "arr            # => [5,4,6]\n",
        "sort!(arr)     # => [4,5,6]\n",
        "arr            # => [4,5,6]"
      ],
      "metadata": {
        "id": "Y1EDy-lbjLZj"
      },
      "execution_count": null,
      "outputs": []
    },
    {
      "cell_type": "code",
      "source": [
        "# You can initialize arrays from ranges\n",
        "a = [1:5;]  # => 5-element Array{Int64,1}: [1,2,3,4,5]\n",
        "a2 = [1:5]  # => 1-element Array{UnitRange{Int64},1}: [1:5]\n",
        "\n",
        "# You can look at ranges with slice syntax.\n",
        "a[1:3]    # => [1, 2, 3]\n",
        "a[2:end]  # => [2, 3, 4, 5]\n",
        "\n",
        "# Remove elements from an array by index with splice!\n",
        "arr = [3,4,5]\n",
        "splice!(arr, 2) # => 4 \n",
        "arr # => [3,5]\n",
        "\n",
        "# Concatenate lists with append!\n",
        "b = [1,2,3]\n",
        "append!(a, b) # => [1, 2, 3, 4, 5, 1, 2, 3]\n",
        "a # => [1, 2, 3, 4, 5, 1, 2, 3]\n",
        "\n",
        "# Check for existence in a list with in\n",
        "in(1, a)  # => true\n",
        "\n",
        "# Examine the length with length\n",
        "length(a)  # => 8"
      ],
      "metadata": {
        "id": "bXd_SDgEji2m"
      },
      "execution_count": null,
      "outputs": []
    },
    {
      "cell_type": "code",
      "source": [
        "####################################################\n",
        "## 3. Control Flow\n",
        "####################################################\n",
        "\n",
        "# Let's make a variable\n",
        "someVar = 5\n",
        "\n",
        "# Here is an if statement. Indentation is not meaningful in Julia.\n",
        "if someVar > 10\n",
        "    println(\"someVar is totally bigger than 10.\")\n",
        "elseif someVar < 10    # This elseif clause is optional.\n",
        "    println(\"someVar is smaller than 10.\")\n",
        "else                    # The else clause is optional too.\n",
        "    println(\"someVar is indeed 10.\")\n",
        "end\n",
        "# => prints \"some var is smaller than 10\"\n",
        "\n",
        "# For loops iterate over iterables.\n",
        "# Iterable types include Range, Array, Set, Dict, and AbstractString.\n",
        "for animal = [\"dog\", \"cat\", \"mouse\"]\n",
        "    println(\"$animal is a mammal\")\n",
        "    # You can use $ to interpolate variables or expression into strings.\n",
        "    # In this special case, no need for parenthesis: $animal and $(animal) give the same\n",
        "end\n",
        "# => dog is a mammal\n",
        "# => cat is a mammal\n",
        "# => mouse is a mammal\n",
        "\n",
        "# You can use 'in' instead of '='.\n",
        "for animal in [\"dog\", \"cat\", \"mouse\"]\n",
        "    println(\"$animal is a mammal\")\n",
        "end\n",
        "# => dog is a mammal\n",
        "# => cat is a mammal\n",
        "# => mouse is a mammal\n",
        "\n",
        "# While loops loop while a condition is true\n",
        "let x = 0\n",
        "    while x < 4\n",
        "        println(x)\n",
        "        x += 1  # Shorthand for in place increment: x = x + 1\n",
        "    end\n",
        "end\n",
        "# => 0\n",
        "# => 1\n",
        "# => 2\n",
        "# => 3\n"
      ],
      "metadata": {
        "id": "VcCeiW0tjwUu"
      },
      "execution_count": null,
      "outputs": []
    },
    {
      "cell_type": "code",
      "source": [
        "####################################################\n",
        "## 4. Functions\n",
        "####################################################\n",
        "\n",
        "# The keyword 'function' creates new functions\n",
        "# function name(arglist)\n",
        "#   body...\n",
        "# end\n",
        "function add(x, y)\n",
        "    println(\"x is $x and y is $y\")\n",
        "\n",
        "    # Functions return the value of their last statement\n",
        "    x + y\n",
        "end\n",
        "\n",
        "add(5, 6)\n",
        "# => x is 5 and y is 6\n",
        "# => 11\n",
        "\n",
        "# Compact assignment of functions\n",
        "f_add(x, y) = x + y  # => f_add (generic function with 1 method)\n",
        "f_add(3, 4)  # => 7\n",
        "\n",
        "# Function can also return multiple values as tuple\n",
        "fn(x, y) = x + y, x - y # => fn (generic function with 1 method)\n",
        "fn(3, 4)  # => (7, -1)"
      ],
      "metadata": {
        "id": "PtjFqSVrj8Cp"
      },
      "execution_count": null,
      "outputs": []
    },
    {
      "cell_type": "code",
      "source": [],
      "metadata": {
        "id": "PEBNrwGZkBS3"
      },
      "execution_count": null,
      "outputs": []
    }
  ],
  "metadata": {
    "colab": {
      "provenance": [],
      "collapsed_sections": []
    },
    "kernelspec": {
      "display_name": "Julia 1.8",
      "language": "julia",
      "name": "julia-1.8"
    },
    "language_info": {
      "name": "julia"
    }
  },
  "nbformat": 4,
  "nbformat_minor": 0
}